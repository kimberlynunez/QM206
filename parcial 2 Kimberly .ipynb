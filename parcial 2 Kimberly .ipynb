{
 "cells": [
  {
   "cell_type": "code",
   "execution_count": 1,
   "metadata": {},
   "outputs": [],
   "source": [
    "import numpy as np \n",
    "import matplotlib.pyplot as plt \n",
    "import pandas as pd \n",
    "import requests"
   ]
  },
  {
   "cell_type": "code",
   "execution_count": 2,
   "metadata": {},
   "outputs": [
    {
     "data": {
      "text/plain": [
       "array([[ 1.00000e+02,  3.32580e+01,  1.49500e+02,  2.16485e+02,\n",
       "        -6.69800e+00, -6.96440e+01, -6.43530e+01,  3.36150e+01],\n",
       "       [ 2.00000e+02,  3.34730e+01,  1.72577e+02,  1.89418e+02,\n",
       "        -3.36800e+00, -7.20270e+01, -5.81610e+01,  1.51900e+01],\n",
       "       [ 2.50000e+02,  3.42160e+01,  1.80113e+02,  1.86829e+02,\n",
       "        -1.67900e+00, -7.34260e+01, -5.45360e+01,  1.13950e+01],\n",
       "       [ 2.98150e+02,  3.56390e+01,  1.86251e+02,  1.86251e+02,\n",
       "         0.00000e+00, -7.48730e+01, -5.07680e+01,  8.89400e+00],\n",
       "       [ 3.00000e+02,  3.57080e+01,  1.86472e+02,  1.86252e+02,\n",
       "         6.60000e-02, -7.49290e+01, -5.06180e+01,  8.81300e+00],\n",
       "       [ 3.50000e+02,  3.78740e+01,  1.92131e+02,  1.86694e+02,\n",
       "         1.90300e+00, -7.64610e+01, -4.64450e+01,  6.93200e+00],\n",
       "       [ 4.00000e+02,  4.05000e+01,  1.97356e+02,  1.87704e+02,\n",
       "         3.86100e+00, -7.79690e+01, -4.20540e+01,  5.49200e+00],\n",
       "       [ 4.50000e+02,  4.33740e+01,  2.02291e+02,  1.89053e+02,\n",
       "         5.95700e+00, -7.94220e+01, -3.74760e+01,  4.35000e+00],\n",
       "       [ 5.00000e+02,  4.63420e+01,  2.07014e+02,  1.90614e+02,\n",
       "         8.20000e+00, -8.08020e+01, -3.27410e+01,  3.42000e+00],\n",
       "       [ 6.00000e+02,  5.22270e+01,  2.15987e+02,  1.94103e+02,\n",
       "         1.31300e+01, -8.33080e+01, -2.28870e+01,  1.99300e+00],\n",
       "       [ 7.00000e+02,  5.77940e+01,  2.24461e+02,  1.97840e+02,\n",
       "         1.86350e+01, -8.54520e+01, -1.26430e+01,  9.43000e-01],\n",
       "       [ 8.00000e+02,  6.29320e+01,  2.32518e+02,  2.01675e+02,\n",
       "         2.46750e+01, -8.72380e+01, -2.11500e+00,  1.38000e-01],\n",
       "       [ 9.00000e+02,  6.76010e+01,  2.40205e+02,  2.05532e+02,\n",
       "         3.12050e+01, -8.86920e+01,  8.61600e+00, -5.00000e-01],\n",
       "       [ 1.00000e+03,  7.17950e+01,  2.47549e+02,  2.09370e+02,\n",
       "         3.81790e+01, -8.98490e+01,  1.94920e+01, -1.01800e+00],\n",
       "       [ 1.10000e+03,  7.55290e+01,  2.54570e+02,  2.13162e+02,\n",
       "         4.55490e+01, -9.07500e+01,  3.04720e+01, -1.44700e+00],\n",
       "       [ 1.20000e+03,  7.88330e+01,  2.61287e+02,  2.16895e+02,\n",
       "         5.32700e+01, -9.14370e+01,  4.15240e+01, -1.80700e+00],\n",
       "       [ 1.30000e+03,  8.17440e+01,  2.67714e+02,  2.20558e+02,\n",
       "         6.13020e+01, -9.19450e+01,  5.26260e+01, -2.11500e+00],\n",
       "       [ 1.40000e+03,  8.43050e+01,  2.73868e+02,  2.24148e+02,\n",
       "         6.96080e+01, -9.23080e+01,  6.37610e+01, -2.37900e+00],\n",
       "       [ 1.50000e+03,  8.65560e+01,  2.79763e+02,  2.27660e+02,\n",
       "         7.81530e+01, -9.25530e+01,  7.49180e+01, -2.60900e+00],\n",
       "       [ 1.60000e+03,  8.85370e+01,  2.85413e+02,  2.31095e+02,\n",
       "         8.69100e+01, -9.27030e+01,  8.60880e+01, -2.81000e+00],\n",
       "       [ 1.70000e+03,  9.02830e+01,  2.90834e+02,  2.34450e+02,\n",
       "         9.58530e+01, -9.27800e+01,  9.72650e+01, -2.98900e+00],\n",
       "       [ 1.80000e+03,  9.18240e+01,  2.96039e+02,  2.37728e+02,\n",
       "         1.04960e+02, -9.27970e+01,  1.08445e+02, -3.14700e+00],\n",
       "       [ 1.90000e+03,  9.31880e+01,  3.01041e+02,  2.40930e+02,\n",
       "         1.14212e+02, -9.27700e+01,  1.19624e+02, -3.28900e+00],\n",
       "       [ 2.00000e+03,  9.43990e+01,  3.05853e+02,  2.44057e+02,\n",
       "         1.23592e+02, -9.27090e+01,  1.30802e+02, -3.41600e+00],\n",
       "       [ 2.10000e+03,  9.54770e+01,  3.10485e+02,  2.47110e+02,\n",
       "         1.33087e+02, -9.26240e+01,  1.41975e+02, -3.53100e+00],\n",
       "       [ 2.20000e+03,  9.64390e+01,  3.14949e+02,  2.50093e+02,\n",
       "         1.42684e+02, -9.25210e+01,  1.53144e+02, -3.63600e+00],\n",
       "       [ 2.30000e+03,  9.73010e+01,  3.19255e+02,  2.53007e+02,\n",
       "         1.52371e+02, -9.24090e+01,  1.64308e+02, -3.73200e+00],\n",
       "       [ 2.40000e+03,  9.80750e+01,  3.23413e+02,  2.55854e+02,\n",
       "         1.62141e+02, -9.22910e+01,  1.75467e+02, -3.81900e+00],\n",
       "       [ 2.50000e+03,  9.87720e+01,  3.27431e+02,  2.58638e+02,\n",
       "         1.71984e+02, -9.21740e+01,  1.86622e+02, -3.89900e+00],\n",
       "       [ 2.60000e+03,  9.94010e+01,  3.31317e+02,  2.61359e+02,\n",
       "         1.81893e+02, -9.20600e+01,  1.97771e+02, -3.97300e+00],\n",
       "       [ 2.70000e+03,  9.99710e+01,  3.35080e+02,  2.64020e+02,\n",
       "         1.91862e+02, -9.19540e+01,  2.08916e+02, -4.04200e+00],\n",
       "       [ 2.80000e+03,  1.00489e+02,  3.38725e+02,  2.66623e+02,\n",
       "         2.01885e+02, -9.18570e+01,  2.20058e+02, -4.10500e+00],\n",
       "       [ 2.90000e+03,  1.00960e+02,  3.42260e+02,  2.69171e+02,\n",
       "         2.11958e+02, -9.17730e+01,  2.31196e+02, -4.16400e+00],\n",
       "       [ 3.00000e+03,  1.01389e+02,  3.45690e+02,  2.71664e+02,\n",
       "         2.22076e+02, -9.17050e+01,  2.42332e+02, -4.21900e+00],\n",
       "       [ 3.10000e+03,  1.01782e+02,  3.49021e+02,  2.74106e+02,\n",
       "         2.32235e+02, -9.16530e+01,  2.53465e+02, -4.27100e+00],\n",
       "       [ 3.20000e+03,  1.02143e+02,  3.52258e+02,  2.76498e+02,\n",
       "         2.42431e+02, -9.16210e+01,  2.64598e+02, -4.31900e+00],\n",
       "       [ 3.30000e+03,  1.02474e+02,  3.55406e+02,  2.78842e+02,\n",
       "         2.52662e+02, -9.16090e+01,  2.75730e+02, -4.36400e+00],\n",
       "       [ 3.40000e+03,  1.02778e+02,  3.58470e+02,  2.81139e+02,\n",
       "         2.62925e+02, -9.16190e+01,  2.86861e+02, -4.40700e+00],\n",
       "       [ 3.50000e+03,  1.03060e+02,  3.61453e+02,  2.83391e+02,\n",
       "         2.73217e+02, -9.16540e+01,  2.97993e+02, -4.44700e+00],\n",
       "       [ 3.60000e+03,  1.03319e+02,  3.64360e+02,  2.85600e+02,\n",
       "         2.83536e+02, -9.17130e+01,  3.09127e+02, -4.48500e+00],\n",
       "       [ 3.70000e+03,  1.03560e+02,  3.67194e+02,  2.87767e+02,\n",
       "         2.93881e+02, -9.17980e+01,  3.20262e+02, -4.52100e+00],\n",
       "       [ 3.80000e+03,  1.03783e+02,  3.69959e+02,  2.89894e+02,\n",
       "         3.04248e+02, -9.19110e+01,  3.31401e+02, -4.55500e+00],\n",
       "       [ 3.90000e+03,  1.03990e+02,  3.72658e+02,  2.91982e+02,\n",
       "         3.14637e+02, -9.20510e+01,  3.42542e+02, -4.58800e+00],\n",
       "       [ 4.00000e+03,  1.04183e+02,  3.75293e+02,  2.94032e+02,\n",
       "         3.25045e+02, -9.22220e+01,  3.53687e+02, -4.61900e+00],\n",
       "       [ 4.10000e+03,  1.04363e+02,  3.77868e+02,  2.96045e+02,\n",
       "         3.35473e+02, -9.24220e+01,  3.64838e+02, -4.64800e+00],\n",
       "       [ 4.20000e+03,  1.04531e+02,  3.80385e+02,  2.98023e+02,\n",
       "         3.45918e+02, -9.26520e+01,  3.75993e+02, -4.67600e+00],\n",
       "       [ 4.30000e+03,  1.04688e+02,  3.82846e+02,  2.99967e+02,\n",
       "         3.56379e+02, -9.29140e+01,  3.87155e+02, -4.70300e+00],\n",
       "       [ 4.40000e+03,  1.04834e+02,  3.85255e+02,  3.01879e+02,\n",
       "         3.66855e+02, -9.32080e+01,  3.98322e+02, -4.72900e+00],\n",
       "       [ 4.50000e+03,  1.04972e+02,  3.87612e+02,  3.03758e+02,\n",
       "         3.77345e+02, -9.35330e+01,  4.09497e+02, -4.75300e+00],\n",
       "       [ 4.60000e+03,  1.05101e+02,  3.89921e+02,  3.05606e+02,\n",
       "         3.87849e+02, -9.38910e+01,  4.20679e+02, -4.77700e+00],\n",
       "       [ 4.70000e+03,  1.05223e+02,  3.92182e+02,  3.07424e+02,\n",
       "         3.98365e+02, -9.42810e+01,  4.31869e+02, -4.80000e+00],\n",
       "       [ 4.80000e+03,  1.05337e+02,  3.94399e+02,  3.09213e+02,\n",
       "         4.08893e+02, -9.47020e+01,  4.43069e+02, -4.82200e+00],\n",
       "       [ 4.90000e+03,  1.05445e+02,  3.96572e+02,  3.10973e+02,\n",
       "         4.19432e+02, -9.51560e+01,  4.54277e+02, -4.84300e+00],\n",
       "       [ 5.00000e+03,  1.05546e+02,  3.98703e+02,  3.12707e+02,\n",
       "         4.29982e+02, -9.56410e+01,  4.65495e+02, -4.86300e+00],\n",
       "       [ 5.10000e+03,  1.05642e+02,  4.00794e+02,  3.14414e+02,\n",
       "         4.40541e+02, -9.61570e+01,  4.76722e+02, -4.88300e+00],\n",
       "       [ 5.20000e+03,  1.05733e+02,  4.02847e+02,  3.16095e+02,\n",
       "         4.51110e+02, -9.67030e+01,  4.87961e+02, -4.90200e+00],\n",
       "       [ 5.30000e+03,  1.05818e+02,  4.04861e+02,  3.17750e+02,\n",
       "         4.61688e+02, -9.72780e+01,  4.99210e+02, -4.92000e+00],\n",
       "       [ 5.40000e+03,  1.05899e+02,  4.06840e+02,  3.19382e+02,\n",
       "         4.72274e+02, -9.78820e+01,  5.10470e+02, -4.93800e+00],\n",
       "       [ 5.50000e+03,  1.05976e+02,  4.08784e+02,  3.20990e+02,\n",
       "         4.82867e+02, -9.85130e+01,  5.21741e+02, -4.95500e+00],\n",
       "       [ 5.60000e+03,  1.06049e+02,  4.10694e+02,  3.22575e+02,\n",
       "         4.93469e+02, -9.91700e+01,  5.33025e+02, -4.97200e+00],\n",
       "       [ 5.70000e+03,  1.06118e+02,  4.12572e+02,  3.24137e+02,\n",
       "         5.04077e+02, -9.98520e+01,  5.44320e+02, -4.98800e+00],\n",
       "       [ 5.80000e+03,  1.06184e+02,  4.14418e+02,  3.25678e+02,\n",
       "         5.14692e+02, -1.00557e+02,  5.55628e+02, -5.00400e+00],\n",
       "       [ 5.90000e+03,  1.06247e+02,  4.16234e+02,  3.27197e+02,\n",
       "         5.25314e+02, -1.01284e+02,  5.66946e+02, -5.01900e+00],\n",
       "       [ 6.00000e+03,  1.06306e+02,  4.18020e+02,  3.28696e+02,\n",
       "         5.35942e+02, -1.02032e+02,  5.78279e+02, -5.03400e+00]])"
      ]
     },
     "execution_count": 2,
     "metadata": {},
     "output_type": "execute_result"
    }
   ],
   "source": [
    "## problema 1 Calculo de coeficientes \n",
    "url=\"https://janaf.nist.gov/tables/C-067.txt\"\n",
    "file=requests.get(url)\n",
    "datos=file.text\n",
    "datos=datos.split(\"\\n\")[3:-1]\n",
    "mat=[]\n",
    "for X in datos:\n",
    "    s=X.split(\"\\t\")\n",
    "    mat.append([float(a) for a in s])\n",
    "mat=np.array(mat)\n",
    "mat"
   ]
  },
  {
   "cell_type": "code",
   "execution_count": 3,
   "metadata": {},
   "outputs": [],
   "source": [
    "A=8.997\n",
    "B=93.7967\n",
    "C=-53.12099\n",
    "D=12.1159\n",
    "E=0.36272\n",
    "\n",
    "T=np.arange(298,1200,0.1)\n",
    "dT=0.1\n",
    "t=T/1000\n",
    "Cp=A+B*t+C*t**2+D*t**3+E/t**2 #j/K-mol\n",
    "Cp\n",
    "#cuanto calor se necesita para ir de 0 a 1200\n",
    "H=np.sum(Cp*dT)\n",
    "H\n",
    "#en forma acumulativa#\n",
    "H=np.cumsum(Cp*dT)+55.13*1000\n",
    "H[-1] #cuando H vale 0\n",
    "S=np.cumsum(Cp/T*dT)\n",
    "G=H-T*S"
   ]
  },
  {
   "cell_type": "code",
   "execution_count": 4,
   "metadata": {},
   "outputs": [
    {
     "data": {
      "image/png": "[encoded data removed]",
      "text/plain": [
       "<Figure size 432x288 with 1 Axes>"
      ]
     },
     "metadata": {},
     "output_type": "display_data"
    }
   ],
   "source": [
    "plt.plot(T,Cp,color=\"indigo\")\n",
    "plt.title(\"Cp vs T\")\n",
    "plt.xlabel(\"Cp(J/K-mol)\")\n",
    "plt.show()"
   ]
  },
  {
   "cell_type": "code",
   "execution_count": 5,
   "metadata": {},
   "outputs": [
    {
     "data": {
      "image/png": "[encoded data removed]",
      "text/plain": [
       "<Figure size 432x288 with 1 Axes>"
      ]
     },
     "metadata": {},
     "output_type": "display_data"
    }
   ],
   "source": [
    "plt.plot(T,H,color=\"blue\")\n",
    "plt.plot(T,S,color=\"black\")\n",
    "plt.plot(T,G,color=\"red\")\n",
    "plt.title(\"\")\n",
    "plt.show()"
   ]
  },
  {
   "cell_type": "code",
   "execution_count": 6,
   "metadata": {},
   "outputs": [
    {
     "data": {
      "text/plain": [
       "array([36.63619114, 36.63998726, 36.64378529, ..., 66.24150952,\n",
       "       66.24333269, 66.24515568])"
      ]
     },
     "execution_count": 6,
     "metadata": {},
     "output_type": "execute_result"
    }
   ],
   "source": [
    "Cp"
   ]
  },
  {
   "cell_type": "code",
   "execution_count": 7,
   "metadata": {},
   "outputs": [],
   "source": [
    "###problema 2"
   ]
  },
  {
   "cell_type": "code",
   "execution_count": 10,
   "metadata": {},
   "outputs": [],
   "source": [
    "deltaS_NO=236.761\n",
    "deltaH_NO=90.381*1000    \n",
    "deltaS_NO2=275.988\n",
    "deltaH_NO2=31.878*1000\n",
    "deltaS_O2=231.466\n",
    "deltaH_O2=0*1000\n",
    "\n",
    "T=700   \n",
    "pt=200   \n",
    "R=8.314  "
   ]
  },
  {
   "cell_type": "code",
   "execution_count": 11,
   "metadata": {},
   "outputs": [
    {
     "ename": "SyntaxError",
     "evalue": "unexpected EOF while parsing (<ipython-input-11-094ab796dc29>, line 4)",
     "output_type": "error",
     "traceback": [
      "\u001b[1;36m  File \u001b[1;32m\"<ipython-input-11-094ab796dc29>\"\u001b[1;36m, line \u001b[1;32m4\u001b[0m\n\u001b[1;33m    print(uNO_est,uNO2_est,uO2_est\u001b[0m\n\u001b[1;37m                                  ^\u001b[0m\n\u001b[1;31mSyntaxError\u001b[0m\u001b[1;31m:\u001b[0m unexpected EOF while parsing\n"
     ]
    }
   ],
   "source": [
    "uNO_est=deltaH_NO-T*deltaS_NO\n",
    "uNO2_est=deltaH_NO2-T*deltaS_NO2\n",
    "uO2_est=deltaH_O2-T*deltaS_O2\n",
    "print(uNO_est,uNO2_est,uO2_est"
   ]
  },
  {
   "cell_type": "code",
   "execution_count": null,
   "metadata": {},
   "outputs": [],
   "source": [
    "x=np.arange(0.001,1,0.001)\n",
    "n_NO=1-x       ##x es shi \n",
    "n_NO2=x\n",
    "n_O2=(1/2)-(1/2)*x\n",
    "nt=(3/2)-(1/2)*x\n",
    "\n",
    "X_NO=n_NO/nt\n",
    "X_NO2=n_NO2/nt\n",
    "X_O2=n_O2/nt"
   ]
  },
  {
   "cell_type": "code",
   "execution_count": null,
   "metadata": {},
   "outputs": [],
   "source": [
    "uNO=uNO_est+R*T*np.log(X_NO)\n",
    "uNO2=uNO2_est+R*T*np.log(X_NO2)\n",
    "uO2=uO2_est+R*T*np.log(X_O2)\n",
    "uT=n_NO*uNO+n_NO2*uNO2+n_O2*uO2"
   ]
  },
  {
   "cell_type": "code",
   "execution_count": null,
   "metadata": {},
   "outputs": [],
   "source": [
    "minimo=np.min(uT)\n",
    "n=np.where(minimo==uT)\n",
    "xeq=x[n]\n",
    "print(xeq)\n",
    "\n",
    "\n",
    "plt.plot(x,uT,color=\"red\")\n",
    "plt.axvline(x=xeq,color=\"green\",linestyle=\"-.\")\n",
    "plt.xlabel(r\"$\\xi$\")\n",
    "plt.ylabel(r\"$\\Delta G$ (J/mol)\")\n",
    "\n",
    "plt.show()"
   ]
  },
  {
   "cell_type": "code",
   "execution_count": null,
   "metadata": {},
   "outputs": [],
   "source": [
    "pNO2=((xeq)/((3/2)-(1/2)*xeq))*pt\n",
    "pNO=(1-xeq/((3/2)-(1/2)*xeq))*pt\n",
    "pO2=(((1/2)-(1/2)*xeq)/((3/2)-(1/2)*xeq))*pt\n",
    "\n",
    "Kp=((pNO2)/(pNO*pO2**(1/2)))\n",
    "print(Kp\n"
   ]
  },
  {
   "cell_type": "code",
   "execution_count": null,
   "metadata": {},
   "outputs": [],
   "source": [
    "## Problema 3"
   ]
  },
  {
   "cell_type": "code",
   "execution_count": null,
   "metadata": {},
   "outputs": [],
   "source": [
    "def secuenciaADN(i):\n",
    "    a = np.arange(4)\n",
    "    cad=(np.random.choice(a, i, replace=True))\n",
    "    sec=str(cad)\n",
    "    sec1=sec.replace('0','A')\n",
    "    sec2=sec1.replace('1','T')\n",
    "    sec3=sec2.replace('2','C')\n",
    "    sec4=sec3.replace('3','G')\n",
    "    return(sec4)"
   ]
  },
  {
   "cell_type": "code",
   "execution_count": null,
   "metadata": {},
   "outputs": [],
   "source": [
    "x=secuenciaADN(1000)\n",
    "y=x[1]\n",
    "\n",
    "y=np.random.randn(1000)\n",
    "plt.hist(y,bins=4, facecolor='blue', edgecolor='yellow',density=False)\n",
    "plt.title('Secuencia de ADN')\n",
    "plt.xlabel('bases nitrogenadas')\n",
    "plt.ylabel('Frecuencia')\n",
    "plt.text(2,100,'A')\n",
    "plt.text(-2,100,'C')\n",
    "plt.text(-1,400,'T')\n",
    "plt.text(1,200,'G')\n",
    "plt.show()\n",
    "print(x)"
   ]
  }
 ],
 "metadata": {
  "kernelspec": {
   "display_name": "Python 3",
   "language": "python",
   "name": "python3"
  },
  "language_info": {
   "codemirror_mode": {
    "name": "ipython",
    "version": 3
   },
   "file_extension": ".py",
   "mimetype": "text/x-python",
   "name": "python",
   "nbconvert_exporter": "python",
   "pygments_lexer": "ipython3",
   "version": "3.6.5"
  }
 },
 "nbformat": 4,
 "nbformat_minor": 2
}
