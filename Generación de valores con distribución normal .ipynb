{
 "cells": [
  {
   "cell_type": "code",
   "execution_count": 1,
   "metadata": {},
   "outputs": [],
   "source": [
    "import numpy as np\n",
    "import matplotlib.pyplot as plt"
   ]
  },
  {
   "cell_type": "code",
   "execution_count": 2,
   "metadata": {},
   "outputs": [
    {
     "data": {
      "text/plain": [
       "array([ -0.57170995,  -4.55452415,  16.72445023, -10.30149972,\n",
       "        29.61253761,   3.49904238,  15.59032295,  -7.66203269,\n",
       "        -9.67465454,  11.70779233,  -6.61189447,  -2.99798001,\n",
       "        -5.75435088, -16.08016907,  -6.62113593,  -6.43220416,\n",
       "         1.17966668,   0.70403383,  -9.1102518 , -12.16529985,\n",
       "         6.75952641, -13.19196299,  23.43099611,  14.01973507,\n",
       "       -16.3262588 ,  -2.63724677,  10.56542427,  -1.2163185 ,\n",
       "       -10.29312743,  -5.86520033,   7.5115533 ,  -8.24622383,\n",
       "         5.41508522,  16.08801344,  -4.56875616,  16.73580363,\n",
       "        -3.4853481 ,  -6.50506274, -14.53095478,   7.729688  ,\n",
       "       -12.4380893 ,  -4.68264041, -17.67185866, -13.85785466,\n",
       "        -7.05124346,   0.52881927,  16.61163049,   8.30074838,\n",
       "       -18.29906769, -13.14668617,   3.82553404,  -1.89632924,\n",
       "        31.64995476,  14.28985242,  15.15963829,   0.14025092,\n",
       "        -6.07902029,  -6.55733312,  -2.66801288,  -1.42967637,\n",
       "        -6.55225806,  11.02985427, -17.69452447,  13.17157345,\n",
       "        11.95189001,  -3.440849  ,   1.08399907,  -6.94653988,\n",
       "        -5.8225637 ,   3.75562815,  -6.53603174,  -4.9547965 ,\n",
       "       -12.67081155,  -4.75265411,  -6.99275209,   4.44780903,\n",
       "         8.37499908, -15.34760029,  -0.38237298,  -6.04204024,\n",
       "       -25.14659894,   4.59725129,  12.74098108,  -5.44108809,\n",
       "         5.11862978,  -1.3815721 ,  -3.77662868,  -7.53113739,\n",
       "         3.07623106,  -0.74157329,   7.17353642,  -5.94827935,\n",
       "         8.22937044,  21.64133172,  16.41495518,   2.49965232,\n",
       "        -8.90393723,  -8.40840861,   3.15987761, -29.07659439])"
      ]
     },
     "execution_count": 2,
     "metadata": {},
     "output_type": "execute_result"
    }
   ],
   "source": [
    "\n",
    "x=np.random.randn(100)*10\n",
    "x\n"
   ]
  },
  {
   "cell_type": "code",
   "execution_count": 3,
   "metadata": {},
   "outputs": [
    {
     "data": {
      "text/plain": [
       "array([-10.54960281,   2.50740147,   9.60741024,   9.56109955,\n",
       "        -2.05057148,   0.13207985,   2.90238574,  16.22278025,\n",
       "        -0.97899345, -15.81641533,  -8.32755856,   6.75958313,\n",
       "         8.15261319,  -6.00962677,  15.96892277,  -1.13766739,\n",
       "         5.92251214,  11.01137666,  -1.8586288 ,   6.15379552,\n",
       "        12.42307171,  -6.46043836,   3.41725265,  16.42351254,\n",
       "         7.09984915,  14.00414543,  -4.13166907,   9.30993987,\n",
       "         3.50897533,  -1.74250397, -22.95118273,   9.07483634,\n",
       "        11.00925219,  -0.80830391,   0.43129795,   6.39524835,\n",
       "        -6.82786187, -10.57255576,  19.39229995,   2.25791733,\n",
       "        -9.11619076,  -6.40799792, -29.11424809,  -6.5770669 ,\n",
       "       -10.72615632,  -1.52753988,  -0.90827395,  -4.34316174,\n",
       "       -11.73490025, -10.00617294,  20.88822173,  15.70536573,\n",
       "         5.45463978,  17.17800349, -20.70035173,   1.16282517,\n",
       "       -13.27091209,  -8.16970015, -11.13011537,  -4.41626715,\n",
       "         7.12644667,   2.90850874,   1.96546596,   7.76917622,\n",
       "        -3.33474051,   2.98512598, -11.88841382,   5.46062622,\n",
       "         2.03908321,   6.73318411,   2.55057321,  -3.34065638,\n",
       "        -4.94535184,  -9.73650422,  11.72493984,  -2.85231715,\n",
       "         5.12350204,   5.64826153,   3.95239741,  17.85368826,\n",
       "         1.60712798,   0.1688029 , -15.19080803,  13.967205  ,\n",
       "        11.66037614, -17.52426418,  12.36558734,  19.82424711,\n",
       "        -9.45859895,  -5.93122322,  -1.71114058,  17.61862955,\n",
       "         5.22406669,  17.48223929,  12.09506075,   3.47871621,\n",
       "       -11.48317283, -14.93677144,   7.64225989,  -6.94272015])"
      ]
     },
     "execution_count": 3,
     "metadata": {},
     "output_type": "execute_result"
    }
   ],
   "source": [
    "y=np.random.randn(100)*10\n",
    "y"
   ]
  },
  {
   "cell_type": "code",
   "execution_count": 4,
   "metadata": {},
   "outputs": [
    {
     "data": {
      "text/plain": [
       "array([ 0,  1,  2,  3,  4,  5,  6,  7,  8,  9, 10, 11, 12, 13, 14, 15, 16,\n",
       "       17, 18, 19, 20, 21, 22, 23, 24, 25, 26, 27, 28, 29, 30, 31, 32, 33,\n",
       "       34, 35, 36, 37, 38, 39, 40, 41, 42, 43, 44, 45, 46, 47, 48, 49, 50,\n",
       "       51, 52, 53, 54, 55, 56, 57, 58, 59, 60, 61, 62, 63, 64, 65, 66, 67,\n",
       "       68, 69, 70, 71, 72, 73, 74, 75, 76, 77, 78, 79, 80, 81, 82, 83, 84,\n",
       "       85, 86, 87, 88, 89, 90, 91, 92, 93, 94, 95, 96, 97, 98, 99])"
      ]
     },
     "execution_count": 4,
     "metadata": {},
     "output_type": "execute_result"
    }
   ],
   "source": [
    "xx = np.arange(100)\n",
    "xx"
   ]
  },
  {
   "cell_type": "code",
   "execution_count": 5,
   "metadata": {},
   "outputs": [
    {
     "data": {
      "text/plain": [
       "array([ 0,  1,  2,  3,  4,  5,  6,  7,  8,  9, 10, 11, 12, 13, 14, 15, 16,\n",
       "       17, 18, 19, 20, 21, 22, 23, 24, 25, 26, 27, 28, 29, 30, 31, 32, 33,\n",
       "       34, 35, 36, 37, 38, 39, 40, 41, 42, 43, 44, 45, 46, 47, 48, 49, 50,\n",
       "       51, 52, 53, 54, 55, 56, 57, 58, 59, 60, 61, 62, 63, 64, 65, 66, 67,\n",
       "       68, 69, 70, 71, 72, 73, 74, 75, 76, 77, 78, 79, 80, 81, 82, 83, 84,\n",
       "       85, 86, 87, 88, 89, 90, 91, 92, 93, 94, 95, 96, 97, 98, 99])"
      ]
     },
     "execution_count": 5,
     "metadata": {},
     "output_type": "execute_result"
    }
   ],
   "source": [
    "yy = np.arange(100)\n",
    "yy"
   ]
  },
  {
   "cell_type": "code",
   "execution_count": 6,
   "metadata": {},
   "outputs": [
    {
     "data": {
      "image/png": "[encoded data removed]",
      "text/plain": [
       "<Figure size 432x288 with 1 Axes>"
      ]
     },
     "metadata": {
      "needs_background": "light"
     },
     "output_type": "display_data"
    }
   ],
   "source": [
    "plt.plot(xx,yy)\n",
    "plt.show()"
   ]
  },
  {
   "cell_type": "code",
   "execution_count": 7,
   "metadata": {},
   "outputs": [
    {
     "data": {
      "image/png": "[encoded data removed]",
      "text/plain": [
       "<Figure size 432x288 with 1 Axes>"
      ]
     },
     "metadata": {
      "needs_background": "light"
     },
     "output_type": "display_data"
    }
   ],
   "source": [
    "x=np.random.randn(100)\n",
    "y=np.random.randn(100)\n",
    "plt.scatter(x,y,s=40)\n",
    "plt.show()\n"
   ]
  },
  {
   "cell_type": "code",
   "execution_count": null,
   "metadata": {},
   "outputs": [],
   "source": []
  }
 ],
 "metadata": {
  "kernelspec": {
   "display_name": "Python 3",
   "language": "python",
   "name": "python3"
  },
  "language_info": {
   "codemirror_mode": {
    "name": "ipython",
    "version": 3
   },
   "file_extension": ".py",
   "mimetype": "text/x-python",
   "name": "python",
   "nbconvert_exporter": "python",
   "pygments_lexer": "ipython3",
   "version": "3.6.6"
  }
 },
 "nbformat": 4,
 "nbformat_minor": 2
}
