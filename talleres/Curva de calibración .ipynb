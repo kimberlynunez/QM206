{
 "cells": [
  {
   "cell_type": "code",
   "execution_count": 2,
   "metadata": {},
   "outputs": [],
   "source": [
    "import numpy as np\n",
    "import matplotlib.pyplot as plt "
   ]
  },
  {
   "cell_type": "code",
   "execution_count": 28,
   "metadata": {},
   "outputs": [],
   "source": [
    "class RegLin:\n",
    "    def __init__(self):\n",
    "        self.pendiente=0\n",
    "        self.intercepto=0\n",
    "    def regresion_lineal(self,x,y):\n",
    "        \"\"\"Calcula la pendiente y el intercepto de la regresion lineal\"\"\"\n",
    "        n=len(x)\n",
    "        detM=n*sum(x*x)-sum(x)*sum(x)\n",
    "        detA=sum(y)*sum(x*x)-sum(x*y)*sum(x)\n",
    "        detB=n*sum(x*y)-sum(x)*sum(y)\n",
    "        a=detA/detM\n",
    "        b=detB/detM\n",
    "        self.pendiente=b\n",
    "        self.intercepto=a\n",
    "        return [a,b]\n",
    "    def graficar(self,x,y):\n",
    "        ycalc=x*self.pendiente+self.intercepto\n",
    "        plt.plot(x,y,'ro')\n",
    "        plt.plot(x,ycalc,'b--')\n",
    "        plt.xlabel(\"t(seg)\")\n",
    "        plt.ylabel(\"distancia(m)\")\n",
    "        plt.title(\"Distancia vs tiempo\")\n",
    "        plt.show() "
   ]
  },
  {
   "cell_type": "code",
   "execution_count": 7,
   "metadata": {},
   "outputs": [],
   "source": [
    "def regresion_lineal(x,y):\n",
    "    n=len(x)\n",
    "    detM=n*sum(x*x)-sum(x)*sum(x)\n",
    "    detA=sum(y)*sum(x*x)-sum(x*y)*sum(x)\n",
    "    detB=n*sum(x*y)-sum(x)*sum(y)\n",
    "    a=detA/detM\n",
    "    b=detB/detM\n",
    "    return [a,b]"
   ]
  },
  {
   "cell_type": "code",
   "execution_count": 9,
   "metadata": {},
   "outputs": [
    {
     "data": {
      "text/plain": [
       "array([ 3.27152039,  7.89696082, 12.52240126, 17.14784169, 21.77328213,\n",
       "       26.39872256])"
      ]
     },
     "execution_count": 9,
     "metadata": {},
     "output_type": "execute_result"
    }
   ],
   "source": [
    "reg=regresion_linealx=np.array([0,1,2,3,4,5])\n",
    "y=x*5+2+np.random.randn(6)*1(x,y)\n",
    "ycalc=x*reg[1]+reg[0]\n",
    "ycalc"
   ]
  },
  {
   "cell_type": "code",
   "execution_count": 17,
   "metadata": {},
   "outputs": [
    {
     "data": {
      "image/png": "[encoded data removed]",
      "text/plain": [
       "<Figure size 432x288 with 1 Axes>"
      ]
     },
     "metadata": {},
     "output_type": "display_data"
    }
   ],
   "source": [
    "plt.plot(x,y,'ro')\n",
    "plt.plot(x,ycalc,'b--')\n",
    "plt.xlabel(\"t(seg)\")\n",
    "plt.ylabel(\"distancia(m)\")\n",
    "plt.title(\"Distancia vs tiempo\")\n",
    "plt.show()"
   ]
  },
  {
   "cell_type": "code",
   "execution_count": 26,
   "metadata": {},
   "outputs": [
    {
     "data": {
      "text/plain": [
       "[4.0, 5.0]"
      ]
     },
     "execution_count": 26,
     "metadata": {},
     "output_type": "execute_result"
    }
   ],
   "source": [
    "x=np.array([0,1,2,3,4,5])\n",
    "y=x*5+4\n",
    "\n",
    "reg=RegLin()\n",
    "reg.regresion_lineal(x,y)"
   ]
  },
  {
   "cell_type": "code",
   "execution_count": 27,
   "metadata": {},
   "outputs": [
    {
     "data": {
      "text/plain": [
       "5.0"
      ]
     },
     "execution_count": 27,
     "metadata": {},
     "output_type": "execute_result"
    }
   ],
   "source": [
    "reg.pendiente "
   ]
  },
  {
   "cell_type": "code",
   "execution_count": null,
   "metadata": {},
   "outputs": [],
   "source": []
  }
 ],
 "metadata": {
  "kernelspec": {
   "display_name": "Python 3",
   "language": "python",
   "name": "python3"
  },
  "language_info": {
   "codemirror_mode": {
    "name": "ipython",
    "version": 3
   },
   "file_extension": ".py",
   "mimetype": "text/x-python",
   "name": "python",
   "nbconvert_exporter": "python",
   "pygments_lexer": "ipython3",
   "version": "3.6.5"
  }
 },
 "nbformat": 4,
 "nbformat_minor": 2
}
