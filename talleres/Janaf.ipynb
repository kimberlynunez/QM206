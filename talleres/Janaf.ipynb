{
 "cells": [
  {
   "cell_type": "code",
   "execution_count": 43,
   "metadata": {},
   "outputs": [],
   "source": [
    "import numpy as np\n",
    "import matplotlib.pyplot as plt"
   ]
  },
  {
   "cell_type": "code",
   "execution_count": 49,
   "metadata": {},
   "outputs": [],
   "source": [
    "##H2O Gas\n",
    "A=30.092\n",
    "B=6.832\n",
    "C=6.793\n",
    "D=-2.53448\n",
    "E=0.082139\n",
    "\n",
    "deltaH_298=-241.826       #kJ/mol\n",
    "deltaS_298=188.835         #J/mol\n",
    "\n",
    "\n",
    "dT=0.1\n",
    "T=np.arange(300,400,dT)\n",
    "t=T/1000\n",
    "Cp_H2O_gas=A+B*t+C*t**2+D*t**3+E/t**2\n",
    "deltaH_gas=np.cumsum(Cp_H2O_gas*dT)+deltaH_298*1000\n",
    "deltaS_gas=np.cumsum(Cp_H2O_gas/T*dT)+deltaS_298\n",
    "deltaG_gas=deltaH_gas-T*deltaS_gas"
   ]
  },
  {
   "cell_type": "code",
   "execution_count": 53,
   "metadata": {},
   "outputs": [],
   "source": [
    "##H2O Gas\n",
    "A=-203.6060\n",
    "B=1523.290\n",
    "C=-3196.413\n",
    "D=2474.455\n",
    "E=3.855\n",
    "\n",
    "deltaH_298=-285.830      #kJ/mol\n",
    "deltaS_298=69.95         #J/mol\n",
    "\n",
    "\n",
    "dT=0.1\n",
    "T=np.arange(300,400,dT)\n",
    "t=T/1000\n",
    "Cp_H2O_liq=A+B*t+C*t**2+D*t**3+E/t**2\n",
    "deltaH_liq=np.cumsum(Cp_H2O_liq*dT)+deltaH_298*1000\n",
    "deltaS_liq=np.cumsum(Cp_H2O_liq/T*dT)+deltaS_298\n",
    "deltaG_liq=deltaH_liq-T*deltaS_liq"
   ]
  },
  {
   "cell_type": "code",
   "execution_count": 54,
   "metadata": {},
   "outputs": [
    {
     "data": {
      "image/png": "[encoded data removed]",
      "text/plain": [
       "<Figure size 432x288 with 1 Axes>"
      ]
     },
     "metadata": {
      "needs_background": "light"
     },
     "output_type": "display_data"
    }
   ],
   "source": [
    "plt.plot(T,deltaG_gas)\n",
    "plt.plot(T,deltaG_liq)\n",
    "plt.show()"
   ]
  },
  {
   "cell_type": "code",
   "execution_count": 55,
   "metadata": {},
   "outputs": [
    {
     "data": {
      "text/plain": [
       "(array([730]),)"
      ]
     },
     "execution_count": 55,
     "metadata": {},
     "output_type": "execute_result"
    }
   ],
   "source": [
    "dp=(deltaG_gas-deltaG_liq)**2\n",
    "minimo=np.min(dp)\n",
    "np.where(dp==minimo)"
   ]
  },
  {
   "cell_type": "code",
   "execution_count": 58,
   "metadata": {},
   "outputs": [
    {
     "data": {
      "text/plain": [
       "373.0000000000166"
      ]
     },
     "execution_count": 58,
     "metadata": {},
     "output_type": "execute_result"
    }
   ],
   "source": [
    "T[730]"
   ]
  },
  {
   "cell_type": "code",
   "execution_count": 59,
   "metadata": {},
   "outputs": [],
   "source": [
    "import requests "
   ]
  },
  {
   "cell_type": "code",
   "execution_count": 79,
   "metadata": {
    "scrolled": true
   },
   "outputs": [
    {
     "data": {
      "text/plain": [
       "array([[ 1.00000e+02,  3.32760e+01,  2.02563e+02,  2.71168e+02,\n",
       "        -6.86100e+00,  3.48980e+01,  3.99630e+01, -2.08740e+01],\n",
       "       [ 2.00000e+02,  3.43850e+01,  2.25852e+02,  2.43325e+02,\n",
       "        -3.49500e+00,  3.38970e+01,  4.54220e+01, -1.18630e+01],\n",
       "       [ 2.50000e+02,  3.55930e+01,  2.33649e+02,  2.40634e+02,\n",
       "        -1.74600e+00,  3.34600e+01,  4.83550e+01, -1.01030e+01],\n",
       "       [ 2.98150e+02,  3.69740e+01,  2.40034e+02,  2.40034e+02,\n",
       "         0.00000e+00,  3.30950e+01,  5.12580e+01, -8.98000e+00],\n",
       "       [ 3.00000e+02,  3.70290e+01,  2.40262e+02,  2.40034e+02,\n",
       "         6.80000e-02,  3.30830e+01,  5.13710e+01, -8.94400e+00],\n",
       "       [ 3.50000e+02,  3.85830e+01,  2.46086e+02,  2.40491e+02,\n",
       "         1.95800e+00,  3.27680e+01,  5.44450e+01, -8.12500e+00],\n",
       "       [ 4.00000e+02,  4.01710e+01,  2.51342e+02,  2.41524e+02,\n",
       "         3.92700e+00,  3.25120e+01,  5.75600e+01, -7.51700e+00],\n",
       "       [ 4.50000e+02,  4.17280e+01,  2.56164e+02,  2.42886e+02,\n",
       "         5.97500e+00,  3.23100e+01,  6.07030e+01, -7.04600e+00],\n",
       "       [ 5.00000e+02,  4.32060e+01,  2.60638e+02,  2.44440e+02,\n",
       "         8.09900e+00,  3.21540e+01,  6.38670e+01, -6.67200e+00],\n",
       "       [ 6.00000e+02,  4.58340e+01,  2.68755e+02,  2.47830e+02,\n",
       "         1.25550e+01,  3.19590e+01,  7.02300e+01, -6.11400e+00],\n",
       "       [ 7.00000e+02,  4.79860e+01,  2.75988e+02,  2.51345e+02,\n",
       "         1.72500e+01,  3.18780e+01,  7.66160e+01, -5.71700e+00],\n",
       "       [ 8.00000e+02,  4.97080e+01,  2.82512e+02,  2.54840e+02,\n",
       "         2.21380e+01,  3.18740e+01,  8.30080e+01, -5.42000e+00],\n",
       "       [ 9.00000e+02,  5.10760e+01,  2.88449e+02,  2.58250e+02,\n",
       "         2.71790e+01,  3.19230e+01,  8.93970e+01, -5.18800e+00],\n",
       "       [ 1.00000e+03,  5.21660e+01,  2.93889e+02,  2.61545e+02,\n",
       "         3.23440e+01,  3.20050e+01,  9.57790e+01, -5.00300e+00],\n",
       "       [ 1.10000e+03,  5.30410e+01,  2.98903e+02,  2.64717e+02,\n",
       "         3.76050e+01,  3.21090e+01,  1.02152e+02, -4.85100e+00],\n",
       "       [ 1.20000e+03,  5.37480e+01,  3.03550e+02,  2.67761e+02,\n",
       "         4.29460e+01,  3.22260e+01,  1.08514e+02, -4.72400e+00],\n",
       "       [ 1.30000e+03,  5.43260e+01,  3.07876e+02,  2.70683e+02,\n",
       "         4.83510e+01,  3.23510e+01,  1.14867e+02, -4.61500e+00],\n",
       "       [ 1.40000e+03,  5.48030e+01,  3.11920e+02,  2.73485e+02,\n",
       "         5.38080e+01,  3.24780e+01,  1.21209e+02, -4.52200e+00],\n",
       "       [ 1.50000e+03,  5.52000e+01,  3.15715e+02,  2.76175e+02,\n",
       "         5.93090e+01,  3.26030e+01,  1.27543e+02, -4.44100e+00],\n",
       "       [ 1.60000e+03,  5.55330e+01,  3.19288e+02,  2.78759e+02,\n",
       "         6.48460e+01,  3.27240e+01,  1.33868e+02, -4.37000e+00],\n",
       "       [ 1.70000e+03,  5.58150e+01,  3.22663e+02,  2.81244e+02,\n",
       "         7.04140e+01,  3.28370e+01,  1.40186e+02, -4.30700e+00],\n",
       "       [ 1.80000e+03,  5.60550e+01,  3.25861e+02,  2.83634e+02,\n",
       "         7.60070e+01,  3.29400e+01,  1.46497e+02, -4.25100e+00],\n",
       "       [ 1.90000e+03,  5.62620e+01,  3.28897e+02,  2.85937e+02,\n",
       "         8.16240e+01,  3.30320e+01,  1.52804e+02, -4.20100e+00],\n",
       "       [ 2.00000e+03,  5.64410e+01,  3.31788e+02,  2.88158e+02,\n",
       "         8.72590e+01,  3.31110e+01,  1.59106e+02, -4.15500e+00],\n",
       "       [ 2.10000e+03,  5.65960e+01,  3.34545e+02,  2.90302e+02,\n",
       "         9.29110e+01,  3.31750e+01,  1.65404e+02, -4.11400e+00],\n",
       "       [ 2.20000e+03,  5.67320e+01,  3.37181e+02,  2.92373e+02,\n",
       "         9.85770e+01,  3.32230e+01,  1.71700e+02, -4.07700e+00],\n",
       "       [ 2.30000e+03,  5.68520e+01,  3.39706e+02,  2.94377e+02,\n",
       "         1.04257e+02,  3.32550e+01,  1.77993e+02, -4.04200e+00],\n",
       "       [ 2.40000e+03,  5.69580e+01,  3.42128e+02,  2.96316e+02,\n",
       "         1.09947e+02,  3.32700e+01,  1.84285e+02, -4.01100e+00],\n",
       "       [ 2.50000e+03,  5.70520e+01,  3.44455e+02,  2.98196e+02,\n",
       "         1.15648e+02,  3.32680e+01,  1.90577e+02, -3.98200e+00],\n",
       "       [ 2.60000e+03,  5.71360e+01,  3.46694e+02,  3.00018e+02,\n",
       "         1.21357e+02,  3.32480e+01,  1.96870e+02, -3.95500e+00],\n",
       "       [ 2.70000e+03,  5.72110e+01,  3.48852e+02,  3.01787e+02,\n",
       "         1.27075e+02,  3.32100e+01,  2.03164e+02, -3.93000e+00],\n",
       "       [ 2.80000e+03,  5.72780e+01,  3.50934e+02,  3.03505e+02,\n",
       "         1.32799e+02,  3.31550e+01,  2.09460e+02, -3.90800e+00],\n",
       "       [ 2.90000e+03,  5.73390e+01,  3.52945e+02,  3.05176e+02,\n",
       "         1.38530e+02,  3.30820e+01,  2.15757e+02, -3.88600e+00],\n",
       "       [ 3.00000e+03,  5.73940e+01,  3.54889e+02,  3.06800e+02,\n",
       "         1.44267e+02,  3.29920e+01,  2.22058e+02, -3.86600e+00],\n",
       "       [ 3.10000e+03,  5.74440e+01,  3.56772e+02,  3.08382e+02,\n",
       "         1.50009e+02,  3.28850e+01,  2.28363e+02, -3.84800e+00],\n",
       "       [ 3.20000e+03,  5.74900e+01,  3.58597e+02,  3.09923e+02,\n",
       "         1.55756e+02,  3.27610e+01,  2.34670e+02, -3.83100e+00],\n",
       "       [ 3.30000e+03,  5.75310e+01,  3.60366e+02,  3.11425e+02,\n",
       "         1.61507e+02,  3.26220e+01,  2.40981e+02, -3.81400e+00],\n",
       "       [ 3.40000e+03,  5.75690e+01,  3.62084e+02,  3.12890e+02,\n",
       "         1.67262e+02,  3.24670e+01,  2.47298e+02, -3.79900e+00],\n",
       "       [ 3.50000e+03,  5.76040e+01,  3.63754e+02,  3.14319e+02,\n",
       "         1.73020e+02,  3.22970e+01,  2.53618e+02, -3.78500e+00],\n",
       "       [ 3.60000e+03,  5.76360e+01,  3.65377e+02,  3.15715e+02,\n",
       "         1.78783e+02,  3.21130e+01,  2.59945e+02, -3.77200e+00],\n",
       "       [ 3.70000e+03,  5.76660e+01,  3.66957e+02,  3.17079e+02,\n",
       "         1.84548e+02,  3.19140e+01,  2.66276e+02, -3.75900e+00],\n",
       "       [ 3.80000e+03,  5.76930e+01,  3.68495e+02,  3.18412e+02,\n",
       "         1.90316e+02,  3.17010e+01,  2.72613e+02, -3.74700e+00],\n",
       "       [ 3.90000e+03,  5.77190e+01,  3.69994e+02,  3.19715e+02,\n",
       "         1.96086e+02,  3.14750e+01,  2.78956e+02, -3.73600e+00],\n",
       "       [ 4.00000e+03,  5.77420e+01,  3.71455e+02,  3.20991e+02,\n",
       "         2.01859e+02,  3.12360e+01,  2.85305e+02, -3.72600e+00],\n",
       "       [ 4.10000e+03,  5.77640e+01,  3.72881e+02,  3.22239e+02,\n",
       "         2.07635e+02,  3.09850e+01,  2.91659e+02, -3.71600e+00],\n",
       "       [ 4.20000e+03,  5.77840e+01,  3.74274e+02,  3.23461e+02,\n",
       "         2.13412e+02,  3.07200e+01,  2.98020e+02, -3.70600e+00],\n",
       "       [ 4.30000e+03,  5.78030e+01,  3.75634e+02,  3.24659e+02,\n",
       "         2.19191e+02,  3.04440e+01,  3.04388e+02, -3.69800e+00],\n",
       "       [ 4.40000e+03,  5.78210e+01,  3.76963e+02,  3.25833e+02,\n",
       "         2.24973e+02,  3.01550e+01,  3.10762e+02, -3.68900e+00],\n",
       "       [ 4.50000e+03,  5.78370e+01,  3.78262e+02,  3.26983e+02,\n",
       "         2.30756e+02,  2.98540e+01,  3.17142e+02, -3.68100e+00],\n",
       "       [ 4.60000e+03,  5.78530e+01,  3.79534e+02,  3.28112e+02,\n",
       "         2.36540e+02,  2.95400e+01,  3.23530e+02, -3.67400e+00],\n",
       "       [ 4.70000e+03,  5.78670e+01,  3.80778e+02,  3.29219e+02,\n",
       "         2.42326e+02,  2.92140e+01,  3.29925e+02, -3.66700e+00],\n",
       "       [ 4.80000e+03,  5.78810e+01,  3.81996e+02,  3.30306e+02,\n",
       "         2.48114e+02,  2.88750e+01,  3.36326e+02, -3.66000e+00],\n",
       "       [ 4.90000e+03,  5.78940e+01,  3.83190e+02,  3.31373e+02,\n",
       "         2.53902e+02,  2.85230e+01,  3.42736e+02, -3.65400e+00],\n",
       "       [ 5.00000e+03,  5.79060e+01,  3.84360e+02,  3.32421e+02,\n",
       "         2.59692e+02,  2.81580e+01,  3.49152e+02, -3.64800e+00],\n",
       "       [ 5.10000e+03,  5.79170e+01,  3.85507e+02,  3.33451e+02,\n",
       "         2.65483e+02,  2.77780e+01,  3.55576e+02, -3.64200e+00],\n",
       "       [ 5.20000e+03,  5.79280e+01,  3.86631e+02,  3.34463e+02,\n",
       "         2.71276e+02,  2.73840e+01,  3.62006e+02, -3.63600e+00],\n",
       "       [ 5.30000e+03,  5.79380e+01,  3.87735e+02,  3.35458e+02,\n",
       "         2.77069e+02,  2.69740e+01,  3.68446e+02, -3.63100e+00],\n",
       "       [ 5.40000e+03,  5.79480e+01,  3.88818e+02,  3.36436e+02,\n",
       "         2.82863e+02,  2.65480e+01,  3.74892e+02, -3.62600e+00],\n",
       "       [ 5.50000e+03,  5.79570e+01,  3.89881e+02,  3.37398e+02,\n",
       "         2.88658e+02,  2.61060e+01,  3.81347e+02, -3.62200e+00],\n",
       "       [ 5.60000e+03,  5.79650e+01,  3.90926e+02,  3.38344e+02,\n",
       "         2.94455e+02,  2.56460e+01,  3.87811e+02, -3.61700e+00],\n",
       "       [ 5.70000e+03,  5.79730e+01,  3.91952e+02,  3.39276e+02,\n",
       "         3.00251e+02,  2.51670e+01,  3.94281e+02, -3.61300e+00],\n",
       "       [ 5.80000e+03,  5.79810e+01,  3.92960e+02,  3.40193e+02,\n",
       "         3.06049e+02,  2.46690e+01,  4.00762e+02, -3.60900e+00],\n",
       "       [ 5.90000e+03,  5.79880e+01,  3.93951e+02,  3.41096e+02,\n",
       "         3.11848e+02,  2.41500e+01,  4.07249e+02, -3.60600e+00],\n",
       "       [ 6.00000e+03,  5.79950e+01,  3.94926e+02,  3.41985e+02,\n",
       "         3.17647e+02,  2.36080e+01,  4.13748e+02, -3.60200e+00]])"
      ]
     },
     "execution_count": 79,
     "metadata": {},
     "output_type": "execute_result"
    }
   ],
   "source": [
    "url=\"https://janaf.nist.gov/tables/N-007.txt\"\n",
    "file=requests.get(url)\n",
    "datos=file.text\n",
    "datos=datos.split(\"\\n\")[3:-1]\n",
    "mat=[]\n",
    "for X in datos:\n",
    "    s=X.split(\"\\t\")\n",
    "    mat.append([float(a) for a in s])\n",
    "mat=np.array(mat)\n",
    "mat\n",
    "    "
   ]
  },
  {
   "cell_type": "code",
   "execution_count": 80,
   "metadata": {},
   "outputs": [
    {
     "data": {
      "image/png": "[encoded data removed]",
      "text/plain": [
       "<Figure size 432x288 with 1 Axes>"
      ]
     },
     "metadata": {
      "needs_background": "light"
     },
     "output_type": "display_data"
    }
   ],
   "source": [
    "T=mat[:,0]\n",
    "Cp=mat[:,1]\n",
    "plt.plot(T,Cp)\n",
    "plt.show()"
   ]
  },
  {
   "cell_type": "code",
   "execution_count": null,
   "metadata": {},
   "outputs": [],
   "source": [
    "T=T[3:16]\n",
    "Y=Cp[3:16]\n",
    "t=T/1000\n",
    "n=len(T)\n",
    "X=np.array([np.ones(n),t,t**2,t**3,1/t**2]).T\n",
    "beta=np.linalg.inv(X.T.dot(X)).dot(X.T.dot(y))\n",
    "beta"
   ]
  },
  {
   "cell_type": "code",
   "execution_count": null,
   "metadata": {},
   "outputs": [],
   "source": [
    "Cp_calc=beta.dot(X.T)"
   ]
  },
  {
   "cell_type": "code",
   "execution_count": null,
   "metadata": {},
   "outputs": [],
   "source": [
    "\n",
    "plt.plot(T,Cp_calc,color=\"red\")\n",
    "plt.scatter(T,y)\n",
    "plt.xlabel(\"T(K)\")\n",
    "plt.ylabel(\"Cp(J/K-mol)\")\n",
    "plt.show()"
   ]
  }
 ],
 "metadata": {
  "kernelspec": {
   "display_name": "Python 3",
   "language": "python",
   "name": "python3"
  },
  "language_info": {
   "codemirror_mode": {
    "name": "ipython",
    "version": 3
   },
   "file_extension": ".py",
   "mimetype": "text/x-python",
   "name": "python",
   "nbconvert_exporter": "python",
   "pygments_lexer": "ipython3",
   "version": "3.6.6"
  }
 },
 "nbformat": 4,
 "nbformat_minor": 2
}
